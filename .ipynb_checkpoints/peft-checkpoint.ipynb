{
 "cells": [
  {
   "cell_type": "markdown",
   "id": "553e7127-515d-4d25-a7a0-f69f99765558",
   "metadata": {},
   "source": [
    "# Showcase of a PEFT technique\n",
    "- PEFT Technique: LoRA\n",
    "- Model: BERT trained on clinical data\n",
    "- Evaluation approach: Determine if patients are correctly diagnosed based on a description of symptoms.\n",
    "  Using `accuracy` as the metric to evaluate the model.\n",
    "- Fine-tuning dataset: Symptom to disease dataset from Huggingface"
   ]
  },
  {
   "cell_type": "markdown",
   "id": "bf92c737-2708-4644-96b5-adf092244df1",
   "metadata": {},
   "source": [
    "# LOAD DATA"
   ]
  },
  {
   "cell_type": "code",
   "execution_count": 2,
   "id": "cdd968b6-cc50-4cac-a0bb-b695dc12ee22",
   "metadata": {},
   "outputs": [
    {
     "name": "stdout",
     "output_type": "stream",
     "text": [
      "cuda\n"
     ]
    }
   ],
   "source": [
    "dataset_name = \"duxprajapati/symptom-disease-dataset\"\n",
    "model_name = \"distilbert/distilbert-base-uncased\"\n",
    "\n",
    "from torch import cuda\n",
    "\n",
    "device = 'cuda' if cuda.is_available() else 'cpu'\n",
    "cuda.empty_cache()\n",
    "print(device)"
   ]
  },
  {
   "cell_type": "code",
   "execution_count": 3,
   "id": "3967888a-c085-49d7-9669-72cf6a0d7568",
   "metadata": {},
   "outputs": [
    {
     "data": {
      "text/plain": [
       "DatasetDict({\n",
       "    train: Dataset({\n",
       "        features: ['text', 'label'],\n",
       "        num_rows: 5070\n",
       "    })\n",
       "    test: Dataset({\n",
       "        features: ['text', 'label'],\n",
       "        num_rows: 1409\n",
       "    })\n",
       "    valid: Dataset({\n",
       "        features: ['text', 'label'],\n",
       "        num_rows: 564\n",
       "    })\n",
       "})"
      ]
     },
     "execution_count": 3,
     "metadata": {},
     "output_type": "execute_result"
    }
   ],
   "source": [
    "from datasets import load_dataset, DatasetDict\n",
    "\n",
    "[ds_train, ds_test] = load_dataset(dataset_name, split=[\"train\", \"test\"])\n",
    "ds_train_valid = ds_train.train_test_split(test_size=0.1, shuffle=False)\n",
    "\n",
    "dataset = DatasetDict({\n",
    "    'train': ds_train_valid['train'],\n",
    "    'test': ds_test,\n",
    "    'valid': ds_train_valid['test']    \n",
    "})\n",
    "dataset"
   ]
  },
  {
   "cell_type": "code",
   "execution_count": 4,
   "id": "65747ee2-cbfb-484a-aa40-8312fc191ed2",
   "metadata": {},
   "outputs": [
    {
     "data": {
      "text/html": [
       "<div>\n",
       "<style scoped>\n",
       "    .dataframe tbody tr th:only-of-type {\n",
       "        vertical-align: middle;\n",
       "    }\n",
       "\n",
       "    .dataframe tbody tr th {\n",
       "        vertical-align: top;\n",
       "    }\n",
       "\n",
       "    .dataframe thead th {\n",
       "        text-align: right;\n",
       "    }\n",
       "</style>\n",
       "<table border=\"1\" class=\"dataframe\">\n",
       "  <thead>\n",
       "    <tr style=\"text-align: right;\">\n",
       "      <th></th>\n",
       "      <th>label</th>\n",
       "      <th>text</th>\n",
       "    </tr>\n",
       "  </thead>\n",
       "  <tbody>\n",
       "    <tr>\n",
       "      <th>0</th>\n",
       "      <td>308</td>\n",
       "      <td>I have been having migraines and headaches. I ...</td>\n",
       "    </tr>\n",
       "    <tr>\n",
       "      <th>1</th>\n",
       "      <td>35</td>\n",
       "      <td>I have asthma and I get wheezing and breathing...</td>\n",
       "    </tr>\n",
       "    <tr>\n",
       "      <th>2</th>\n",
       "      <td>798</td>\n",
       "      <td>Signs and symptoms of primary ovarian insuffic...</td>\n",
       "    </tr>\n",
       "    <tr>\n",
       "      <th>3</th>\n",
       "      <td>149</td>\n",
       "      <td>cough,high_fever,breathlessness,family_history...</td>\n",
       "    </tr>\n",
       "    <tr>\n",
       "      <th>4</th>\n",
       "      <td>596</td>\n",
       "      <td>chills,vomiting,high_fever,sweating,headache,n...</td>\n",
       "    </tr>\n",
       "  </tbody>\n",
       "</table>\n",
       "</div>"
      ],
      "text/plain": [
       "   label                                               text\n",
       "0    308  I have been having migraines and headaches. I ...\n",
       "1     35  I have asthma and I get wheezing and breathing...\n",
       "2    798  Signs and symptoms of primary ovarian insuffic...\n",
       "3    149  cough,high_fever,breathlessness,family_history...\n",
       "4    596  chills,vomiting,high_fever,sweating,headache,n..."
      ]
     },
     "execution_count": 4,
     "metadata": {},
     "output_type": "execute_result"
    }
   ],
   "source": [
    "import pandas as pd\n",
    "\n",
    "df = pd.DataFrame(dataset[\"train\"])\n",
    "df[[\"label\", \"text\"]].head()"
   ]
  },
  {
   "cell_type": "code",
   "execution_count": 5,
   "id": "0da17191-cf92-4aba-b180-8dd9d0cf08e7",
   "metadata": {},
   "outputs": [
    {
     "name": "stdout",
     "output_type": "stream",
     "text": [
      "                                         value\n",
      "(Vertigo) Paroymsal  Positional Vertigo      0\n",
      "Abdominal Aortic Aneurysm                    1\n",
      "Acanthosis Nigricans                         2\n",
      "Achalasia                                    3\n",
      "Achilles Tendinitis                          4\n",
      "                                     value\n",
      "0  (Vertigo) Paroymsal  Positional Vertigo\n",
      "1                Abdominal Aortic Aneurysm\n",
      "2                     Acanthosis Nigricans\n",
      "3                                Achalasia\n",
      "4                      Achilles Tendinitis\n"
     ]
    }
   ],
   "source": [
    "import json\n",
    "\n",
    "with open('mapping.json') as file:\n",
    "  label2id = json.load(file)\n",
    "\n",
    "df = pd.DataFrame.from_dict(label2id, orient='index', columns=['value'])\n",
    "print(df.head())\n",
    "\n",
    "id2label = {id: name for name, id in label2id.items() }\n",
    "df = pd.DataFrame.from_dict(id2label, orient='index', columns=['value'])\n",
    "print(df.head())"
   ]
  },
  {
   "cell_type": "code",
   "execution_count": 6,
   "id": "a663c2ce-c667-475f-87e3-da02b545975b",
   "metadata": {},
   "outputs": [
    {
     "data": {
      "application/vnd.jupyter.widget-view+json": {
       "model_id": "e970056ba92848a0ad51358a8c63eb05",
       "version_major": 2,
       "version_minor": 0
      },
      "text/plain": [
       "Map:   0%|          | 0/5070 [00:00<?, ? examples/s]"
      ]
     },
     "metadata": {},
     "output_type": "display_data"
    },
    {
     "data": {
      "application/vnd.jupyter.widget-view+json": {
       "model_id": "e22c0503b3844c45b08da451d586aabe",
       "version_major": 2,
       "version_minor": 0
      },
      "text/plain": [
       "Map:   0%|          | 0/564 [00:00<?, ? examples/s]"
      ]
     },
     "metadata": {},
     "output_type": "display_data"
    },
    {
     "name": "stdout",
     "output_type": "stream",
     "text": [
      "Total number of diseases:  1082\n"
     ]
    },
    {
     "data": {
      "text/html": [
       "<div>\n",
       "<style scoped>\n",
       "    .dataframe tbody tr th:only-of-type {\n",
       "        vertical-align: middle;\n",
       "    }\n",
       "\n",
       "    .dataframe tbody tr th {\n",
       "        vertical-align: top;\n",
       "    }\n",
       "\n",
       "    .dataframe thead th {\n",
       "        text-align: right;\n",
       "    }\n",
       "</style>\n",
       "<table border=\"1\" class=\"dataframe\">\n",
       "  <thead>\n",
       "    <tr style=\"text-align: right;\">\n",
       "      <th></th>\n",
       "      <th>label</th>\n",
       "      <th>text</th>\n",
       "    </tr>\n",
       "  </thead>\n",
       "  <tbody>\n",
       "    <tr>\n",
       "      <th>0</th>\n",
       "      <td>Drug Reaction</td>\n",
       "      <td>I have been having migraines and headaches. I ...</td>\n",
       "    </tr>\n",
       "    <tr>\n",
       "      <th>1</th>\n",
       "      <td>Allergy</td>\n",
       "      <td>I have asthma and I get wheezing and breathing...</td>\n",
       "    </tr>\n",
       "    <tr>\n",
       "      <th>2</th>\n",
       "      <td>Premature Ovarian Failure</td>\n",
       "      <td>Signs and symptoms of primary ovarian insuffic...</td>\n",
       "    </tr>\n",
       "    <tr>\n",
       "      <th>3</th>\n",
       "      <td>Bronchial Asthma</td>\n",
       "      <td>cough,high_fever,breathlessness,family_history...</td>\n",
       "    </tr>\n",
       "    <tr>\n",
       "      <th>4</th>\n",
       "      <td>Malaria</td>\n",
       "      <td>chills,vomiting,high_fever,sweating,headache,n...</td>\n",
       "    </tr>\n",
       "  </tbody>\n",
       "</table>\n",
       "</div>"
      ],
      "text/plain": [
       "                       label  \\\n",
       "0              Drug Reaction   \n",
       "1                    Allergy   \n",
       "2  Premature Ovarian Failure   \n",
       "3           Bronchial Asthma   \n",
       "4                    Malaria   \n",
       "\n",
       "                                                text  \n",
       "0  I have been having migraines and headaches. I ...  \n",
       "1  I have asthma and I get wheezing and breathing...  \n",
       "2  Signs and symptoms of primary ovarian insuffic...  \n",
       "3  cough,high_fever,breathlessness,family_history...  \n",
       "4  chills,vomiting,high_fever,sweating,headache,n...  "
      ]
     },
     "execution_count": 6,
     "metadata": {},
     "output_type": "execute_result"
    }
   ],
   "source": [
    "def label_to_string(example):\n",
    "    return {\n",
    "        'label': id2label[example[\"label\"]],\n",
    "        'text': example[\"text\"]\n",
    "    }\n",
    "\n",
    "readable_dataset = dataset.map(label_to_string)\n",
    "                               \n",
    "labels = id2label.keys()\n",
    "print('Total number of diseases: ', len(labels))\n",
    "\n",
    "df = pd.DataFrame(readable_dataset[\"train\"])\n",
    "df[[\"label\", \"text\"]].head()"
   ]
  },
  {
   "cell_type": "markdown",
   "id": "b03e9317-822a-42f5-a60d-adb9fc592fe5",
   "metadata": {},
   "source": [
    "# LOAD MODEL"
   ]
  },
  {
   "cell_type": "code",
   "execution_count": 7,
   "id": "dee4b85c-33a4-4ef5-b284-19664311de40",
   "metadata": {},
   "outputs": [
    {
     "data": {
      "application/vnd.jupyter.widget-view+json": {
       "model_id": "66f259700dfb43d2ae0c83c4a7f6cbd0",
       "version_major": 2,
       "version_minor": 0
      },
      "text/plain": [
       "Map:   0%|          | 0/5070 [00:00<?, ? examples/s]"
      ]
     },
     "metadata": {},
     "output_type": "display_data"
    },
    {
     "data": {
      "application/vnd.jupyter.widget-view+json": {
       "model_id": "6b0e860aad404494b95837b74efab171",
       "version_major": 2,
       "version_minor": 0
      },
      "text/plain": [
       "Map:   0%|          | 0/564 [00:00<?, ? examples/s]"
      ]
     },
     "metadata": {},
     "output_type": "display_data"
    },
    {
     "name": "stdout",
     "output_type": "stream",
     "text": [
      "{'text': \"I have been having migraines and headaches. I can't sleep. My whole body is shaking and shivering. I feel dizzy sometimes.\", 'label': 308, 'input_ids': [101, 1045, 2031, 2042, 2383, 19117, 26456, 2015, 1998, 14978, 2015, 1012, 1045, 2064, 1005, 1056, 3637, 1012, 2026, 2878, 2303, 2003, 5513, 1998, 19197, 1012, 1045, 2514, 14849, 2823, 1012, 102, 0, 0, 0, 0, 0, 0, 0, 0, 0, 0, 0, 0, 0, 0, 0, 0, 0, 0, 0, 0, 0, 0, 0, 0, 0, 0, 0, 0, 0, 0, 0, 0, 0, 0, 0, 0, 0, 0, 0, 0, 0, 0, 0, 0, 0, 0, 0, 0, 0, 0, 0, 0, 0, 0, 0, 0, 0, 0, 0, 0, 0, 0, 0, 0, 0, 0, 0, 0, 0, 0, 0, 0, 0, 0, 0, 0, 0, 0, 0, 0, 0, 0, 0, 0, 0, 0, 0, 0, 0, 0, 0, 0, 0, 0, 0, 0, 0, 0, 0, 0, 0, 0, 0, 0, 0, 0, 0, 0, 0, 0, 0, 0, 0, 0, 0, 0, 0, 0, 0, 0, 0, 0, 0, 0, 0, 0, 0, 0, 0, 0, 0, 0, 0, 0, 0, 0, 0, 0, 0, 0, 0, 0, 0, 0, 0, 0, 0, 0, 0, 0, 0, 0, 0, 0, 0, 0, 0, 0, 0, 0, 0, 0, 0, 0, 0, 0, 0, 0, 0, 0, 0, 0, 0, 0, 0, 0, 0, 0, 0, 0, 0, 0, 0, 0, 0, 0, 0, 0, 0, 0, 0, 0, 0, 0, 0, 0, 0, 0, 0, 0, 0, 0, 0, 0, 0, 0, 0, 0, 0, 0, 0, 0, 0, 0, 0, 0, 0, 0, 0, 0, 0, 0, 0, 0, 0, 0, 0, 0, 0, 0, 0, 0, 0, 0, 0, 0, 0, 0, 0, 0, 0, 0, 0, 0, 0, 0, 0, 0, 0, 0, 0, 0, 0, 0, 0, 0, 0, 0, 0, 0, 0, 0, 0, 0, 0, 0, 0, 0, 0, 0, 0, 0, 0, 0, 0, 0, 0, 0, 0, 0, 0, 0, 0, 0, 0, 0, 0, 0, 0, 0, 0, 0, 0, 0, 0, 0, 0, 0, 0, 0, 0, 0, 0, 0, 0, 0, 0, 0, 0, 0, 0, 0, 0, 0, 0, 0, 0, 0, 0, 0, 0, 0, 0, 0, 0, 0, 0, 0, 0, 0, 0, 0, 0, 0, 0, 0, 0, 0, 0, 0, 0, 0, 0, 0, 0, 0, 0, 0, 0, 0, 0, 0, 0, 0, 0, 0, 0, 0, 0, 0, 0, 0, 0, 0, 0, 0, 0, 0, 0, 0, 0, 0, 0, 0, 0, 0, 0, 0, 0, 0, 0, 0, 0, 0, 0, 0, 0, 0, 0, 0, 0, 0, 0, 0, 0, 0, 0, 0, 0, 0, 0, 0, 0, 0, 0, 0, 0, 0, 0, 0, 0, 0, 0, 0, 0, 0, 0, 0, 0, 0, 0, 0, 0, 0, 0, 0, 0, 0, 0, 0, 0, 0, 0, 0, 0, 0, 0, 0, 0, 0, 0, 0, 0, 0, 0, 0, 0, 0, 0, 0, 0, 0, 0, 0, 0, 0, 0, 0, 0, 0, 0, 0, 0, 0, 0, 0, 0, 0, 0, 0, 0, 0, 0, 0, 0, 0, 0, 0, 0, 0], 'attention_mask': [1, 1, 1, 1, 1, 1, 1, 1, 1, 1, 1, 1, 1, 1, 1, 1, 1, 1, 1, 1, 1, 1, 1, 1, 1, 1, 1, 1, 1, 1, 1, 1, 0, 0, 0, 0, 0, 0, 0, 0, 0, 0, 0, 0, 0, 0, 0, 0, 0, 0, 0, 0, 0, 0, 0, 0, 0, 0, 0, 0, 0, 0, 0, 0, 0, 0, 0, 0, 0, 0, 0, 0, 0, 0, 0, 0, 0, 0, 0, 0, 0, 0, 0, 0, 0, 0, 0, 0, 0, 0, 0, 0, 0, 0, 0, 0, 0, 0, 0, 0, 0, 0, 0, 0, 0, 0, 0, 0, 0, 0, 0, 0, 0, 0, 0, 0, 0, 0, 0, 0, 0, 0, 0, 0, 0, 0, 0, 0, 0, 0, 0, 0, 0, 0, 0, 0, 0, 0, 0, 0, 0, 0, 0, 0, 0, 0, 0, 0, 0, 0, 0, 0, 0, 0, 0, 0, 0, 0, 0, 0, 0, 0, 0, 0, 0, 0, 0, 0, 0, 0, 0, 0, 0, 0, 0, 0, 0, 0, 0, 0, 0, 0, 0, 0, 0, 0, 0, 0, 0, 0, 0, 0, 0, 0, 0, 0, 0, 0, 0, 0, 0, 0, 0, 0, 0, 0, 0, 0, 0, 0, 0, 0, 0, 0, 0, 0, 0, 0, 0, 0, 0, 0, 0, 0, 0, 0, 0, 0, 0, 0, 0, 0, 0, 0, 0, 0, 0, 0, 0, 0, 0, 0, 0, 0, 0, 0, 0, 0, 0, 0, 0, 0, 0, 0, 0, 0, 0, 0, 0, 0, 0, 0, 0, 0, 0, 0, 0, 0, 0, 0, 0, 0, 0, 0, 0, 0, 0, 0, 0, 0, 0, 0, 0, 0, 0, 0, 0, 0, 0, 0, 0, 0, 0, 0, 0, 0, 0, 0, 0, 0, 0, 0, 0, 0, 0, 0, 0, 0, 0, 0, 0, 0, 0, 0, 0, 0, 0, 0, 0, 0, 0, 0, 0, 0, 0, 0, 0, 0, 0, 0, 0, 0, 0, 0, 0, 0, 0, 0, 0, 0, 0, 0, 0, 0, 0, 0, 0, 0, 0, 0, 0, 0, 0, 0, 0, 0, 0, 0, 0, 0, 0, 0, 0, 0, 0, 0, 0, 0, 0, 0, 0, 0, 0, 0, 0, 0, 0, 0, 0, 0, 0, 0, 0, 0, 0, 0, 0, 0, 0, 0, 0, 0, 0, 0, 0, 0, 0, 0, 0, 0, 0, 0, 0, 0, 0, 0, 0, 0, 0, 0, 0, 0, 0, 0, 0, 0, 0, 0, 0, 0, 0, 0, 0, 0, 0, 0, 0, 0, 0, 0, 0, 0, 0, 0, 0, 0, 0, 0, 0, 0, 0, 0, 0, 0, 0, 0, 0, 0, 0, 0, 0, 0, 0, 0, 0, 0, 0, 0, 0, 0, 0, 0, 0, 0, 0, 0, 0, 0, 0, 0, 0, 0, 0, 0, 0, 0, 0, 0, 0, 0, 0, 0, 0, 0, 0, 0, 0, 0, 0, 0, 0, 0, 0, 0, 0, 0, 0, 0, 0, 0, 0, 0, 0, 0, 0, 0, 0, 0, 0, 0, 0, 0]}\n"
     ]
    },
    {
     "data": {
      "text/plain": [
       "Dataset({\n",
       "    features: ['text', 'label', 'input_ids', 'attention_mask'],\n",
       "    num_rows: 5070\n",
       "})"
      ]
     },
     "execution_count": 7,
     "metadata": {},
     "output_type": "execute_result"
    }
   ],
   "source": [
    "from transformers import AutoTokenizer\n",
    "\n",
    "tokenizer = AutoTokenizer.from_pretrained(model_name)\n",
    "# tokenizer.pad_token = tokenizer.eos_token\n",
    "\n",
    "def prepare_features(examples):\n",
    "    # Tokenize the text\n",
    "    tokenized = tokenizer(examples['text'], truncation=True, padding=\"max_length\", return_tensors=\"pt\") \n",
    "    return tokenized\n",
    "\n",
    "tokenized_dataset = {}\n",
    "for split in dataset:\n",
    "    tokenized_dataset[split] = dataset[split].map(\n",
    "        prepare_features,\n",
    "        batched=True\n",
    "    )\n",
    "\n",
    "print(tokenized_dataset[\"train\"][0])\n",
    "tokenized_dataset[\"train\"]"
   ]
  },
  {
   "cell_type": "code",
   "execution_count": 8,
   "id": "383c826b-7830-4ec8-9a0c-51e33367ff19",
   "metadata": {},
   "outputs": [
    {
     "name": "stdout",
     "output_type": "stream",
     "text": [
      "DistilBertForSequenceClassification(\n",
      "  (distilbert): DistilBertModel(\n",
      "    (embeddings): Embeddings(\n",
      "      (word_embeddings): Embedding(30522, 768, padding_idx=0)\n",
      "      (position_embeddings): Embedding(512, 768)\n",
      "      (LayerNorm): LayerNorm((768,), eps=1e-12, elementwise_affine=True)\n",
      "      (dropout): Dropout(p=0.1, inplace=False)\n",
      "    )\n",
      "    (transformer): Transformer(\n",
      "      (layer): ModuleList(\n",
      "        (0-5): 6 x TransformerBlock(\n",
      "          (attention): DistilBertSdpaAttention(\n",
      "            (dropout): Dropout(p=0.1, inplace=False)\n",
      "            (q_lin): Linear(in_features=768, out_features=768, bias=True)\n",
      "            (k_lin): Linear(in_features=768, out_features=768, bias=True)\n",
      "            (v_lin): Linear(in_features=768, out_features=768, bias=True)\n",
      "            (out_lin): Linear(in_features=768, out_features=768, bias=True)\n",
      "          )\n",
      "          (sa_layer_norm): LayerNorm((768,), eps=1e-12, elementwise_affine=True)\n",
      "          (ffn): FFN(\n",
      "            (dropout): Dropout(p=0.1, inplace=False)\n",
      "            (lin1): Linear(in_features=768, out_features=3072, bias=True)\n",
      "            (lin2): Linear(in_features=3072, out_features=768, bias=True)\n",
      "            (activation): GELUActivation()\n",
      "          )\n",
      "          (output_layer_norm): LayerNorm((768,), eps=1e-12, elementwise_affine=True)\n",
      "        )\n",
      "      )\n",
      "    )\n",
      "  )\n",
      "  (pre_classifier): Linear(in_features=768, out_features=768, bias=True)\n",
      "  (classifier): Linear(in_features=768, out_features=1082, bias=True)\n",
      "  (dropout): Dropout(p=0.2, inplace=False)\n",
      ")\n"
     ]
    }
   ],
   "source": [
    "from transformers import AutoTokenizer, AutoModelForSequenceClassification, AutoConfig\n",
    "\n",
    "config = AutoConfig.from_pretrained(model_name,\n",
    "                                   num_labels=len(labels),\n",
    "                                   label2id=label2id,\n",
    "                                   id2label=id2label)\n",
    "model = AutoModelForSequenceClassification.from_config(config)\n",
    "model.to(device)\n",
    "\n",
    "# for param in model.parameters():\n",
    "#     param.requires_grad = False\n",
    "\n",
    "print(model)"
   ]
  },
  {
   "cell_type": "code",
   "execution_count": 9,
   "id": "8d90544b-0b04-4514-92ad-b35a9db87226",
   "metadata": {},
   "outputs": [
    {
     "data": {
      "text/plain": [
       "{'accuracy': 0.0}"
      ]
     },
     "execution_count": 9,
     "metadata": {},
     "output_type": "execute_result"
    }
   ],
   "source": [
    "import evaluate\n",
    "metric = evaluate.load(\"accuracy\")\n",
    "\n",
    "def validate_model(model):\n",
    "    predictions = []\n",
    "    labels = []\n",
    "\n",
    "    for row in tokenized_dataset['valid']:\n",
    "        expected_label_id = row['label']\n",
    "        inputs = tokenizer(row['text'], truncation=True, padding=\"max_length\", return_tensors=\"pt\").to(device)\n",
    "        outputs = model(**inputs)\n",
    "        predicted_label_id = outputs.logits.argmax().item()\n",
    "\n",
    "        predictions.append(predicted_label_id)\n",
    "        labels.append(expected_label_id)\n",
    "    \n",
    "    return metric.compute(predictions=predictions, references=labels)\n",
    "\n",
    "pretrained_accuracy = validate_model(model)\n",
    "pretrained_accuracy"
   ]
  },
  {
   "cell_type": "code",
   "execution_count": 10,
   "id": "0f614781-6efe-4780-a3f3-b85d37eebbd2",
   "metadata": {},
   "outputs": [
    {
     "name": "stdout",
     "output_type": "stream",
     "text": [
      "Median Arcuate Ligament Syndrome Mals\n"
     ]
    }
   ],
   "source": [
    "def diagnose(model, tokenizer, symptoms):\n",
    "    inputs = tokenizer(symptoms, return_tensors=\"pt\").to(device)\n",
    "    outputs = model(**inputs)\n",
    "    \n",
    "    diagnosis = outputs.logits.argmax().item()\n",
    "    return model.config.id2label[diagnosis]\n",
    "\n",
    "print(diagnose(model, tokenizer, \"Headache, flatulence, easily irritated, emotionally unstable\")) "
   ]
  },
  {
   "cell_type": "markdown",
   "id": "e26632d1-9f5f-485b-a058-2c3d4200ce97",
   "metadata": {},
   "source": [
    "# PREPARE PEFT MODEL"
   ]
  },
  {
   "cell_type": "code",
   "execution_count": 11,
   "id": "8b397fcf-8ebe-4a7e-8dfa-10355ba12489",
   "metadata": {},
   "outputs": [
    {
     "name": "stdout",
     "output_type": "stream",
     "text": [
      "trainable params: 1,422,650 || all params: 69,798,004 || trainable%: 2.0382\n"
     ]
    },
    {
     "data": {
      "text/plain": [
       "{'default': LoraConfig(task_type='SEQ_CLS', peft_type=<PeftType.LORA: 'LORA'>, auto_mapping=None, base_model_name_or_path='distilbert/distilbert-base-uncased', revision=None, inference_mode=True, r=16, target_modules={'k_lin', 'q_lin', 'out_lin', 'v_lin'}, exclude_modules=None, lora_alpha=32, lora_dropout=0.05, fan_in_fan_out=False, bias='none', use_rslora=False, modules_to_save=['pre_classifier', 'classifier', 'classifier', 'score'], init_lora_weights=True, layers_to_transform=None, layers_pattern=None, rank_pattern={}, alpha_pattern={}, megatron_config=None, megatron_core='megatron.core', loftq_config={}, eva_config=None, use_dora=False, layer_replication=None, runtime_config=LoraRuntimeConfig(ephemeral_gpu_offload=False), lora_bias=False)}"
      ]
     },
     "execution_count": 11,
     "metadata": {},
     "output_type": "execute_result"
    }
   ],
   "source": [
    "from peft import LoraConfig, get_peft_model\n",
    "lora_config = LoraConfig(\n",
    "    r=16,\n",
    "    lora_alpha=32,\n",
    "    lora_dropout=0.05,\n",
    "    target_modules=[\"q_lin\", \"k_lin\", \"v_lin\", \"out_lin\"],\n",
    "    task_type='SEQ_CLS',\n",
    "    modules_to_save=[\"pre_classifier\", \"classifier\"],\n",
    "    inference_mode=True\n",
    ")\n",
    "\n",
    "lora_model = get_peft_model(model, lora_config)\n",
    "lora_model.print_trainable_parameters()\n",
    "lora_model.peft_config"
   ]
  },
  {
   "cell_type": "code",
   "execution_count": 12,
   "id": "1dbc273a-ba50-4ea3-b546-c34c9fff1877",
   "metadata": {},
   "outputs": [],
   "source": [
    "import numpy as np\n",
    "from transformers import DataCollatorWithPadding, Trainer, TrainingArguments\n",
    "\n",
    "def compute_metrics(eval_pred):\n",
    "    logits, labels = eval_pred\n",
    "    predictions = np.argmax(logits, axis=1)\n",
    "\n",
    "    #return {\"accuracy\": (predictions == labels).mean()}\n",
    "    return metric.compute(predictions=predictions, references=labels)\n",
    "\n",
    "trainer = Trainer(\n",
    "    model=lora_model,\n",
    "    args=TrainingArguments(\n",
    "        output_dir=\"./model/\",\n",
    "        learning_rate=2e-3,\n",
    "        per_device_train_batch_size=16,\n",
    "        per_device_eval_batch_size=16,\n",
    "        eval_strategy=\"steps\",\n",
    "        save_strategy=\"steps\",\n",
    "        num_train_epochs=15,\n",
    "        weight_decay=0.01,\n",
    "        load_best_model_at_end=True,\n",
    "        metric_for_best_model=\"accuracy\",\n",
    "        eval_on_start=True\n",
    "    ),\n",
    "    train_dataset=tokenized_dataset[\"train\"],\n",
    "    eval_dataset=tokenized_dataset[\"test\"],\n",
    "    processing_class=tokenizer,\n",
    "    data_collator=DataCollatorWithPadding(tokenizer=tokenizer),\n",
    "    compute_metrics=compute_metrics,\n",
    ")"
   ]
  },
  {
   "cell_type": "markdown",
   "id": "76411532-7c3d-4f66-b00b-28a9317457ef",
   "metadata": {},
   "source": [
    "# EVALUATION PRE TRAINING"
   ]
  },
  {
   "cell_type": "code",
   "execution_count": 13,
   "id": "baf4052a-2e77-4a93-90e0-7101a8b0a042",
   "metadata": {},
   "outputs": [
    {
     "data": {
      "text/html": [
       "\n",
       "    <div>\n",
       "      \n",
       "      <progress value='178' max='89' style='width:300px; height:20px; vertical-align: middle;'></progress>\n",
       "      [89/89 00:20]\n",
       "    </div>\n",
       "    "
      ],
      "text/plain": [
       "<IPython.core.display.HTML object>"
      ]
     },
     "metadata": {},
     "output_type": "display_data"
    },
    {
     "data": {
      "text/plain": [
       "{'_loss': 7.0007123947143555,\n",
       " '_model_preparation_time': 0.0017,\n",
       " '_accuracy': 0.0,\n",
       " '_runtime': 6.6517,\n",
       " '_samples_per_second': 211.826,\n",
       " '_steps_per_second': 13.38}"
      ]
     },
     "execution_count": 13,
     "metadata": {},
     "output_type": "execute_result"
    }
   ],
   "source": [
    "pre_training_eval = trainer.evaluate(metric_key_prefix='')\n",
    "pre_training_eval"
   ]
  },
  {
   "cell_type": "markdown",
   "id": "c6950943-596e-4251-b6f2-8075f3b450bd",
   "metadata": {},
   "source": [
    "# TRAIN PEFT MODEL"
   ]
  },
  {
   "cell_type": "code",
   "execution_count": 14,
   "id": "40a0f0bd-319a-40a1-b2e0-4480f5817912",
   "metadata": {},
   "outputs": [
    {
     "data": {
      "text/html": [
       "\n",
       "    <div>\n",
       "      \n",
       "      <progress value='4755' max='4755' style='width:300px; height:20px; vertical-align: middle;'></progress>\n",
       "      [4755/4755 07:40, Epoch 15/15]\n",
       "    </div>\n",
       "    <table border=\"1\" class=\"dataframe\">\n",
       "  <thead>\n",
       " <tr style=\"text-align: left;\">\n",
       "      <th>Step</th>\n",
       "      <th>Training Loss</th>\n",
       "      <th>Validation Loss</th>\n",
       "      <th>Model Preparation Time</th>\n",
       "      <th>Accuracy</th>\n",
       "    </tr>\n",
       "  </thead>\n",
       "  <tbody>\n",
       "    <tr>\n",
       "      <td>0</td>\n",
       "      <td>No log</td>\n",
       "      <td>7.000712</td>\n",
       "      <td>0.001700</td>\n",
       "      <td>0.000000</td>\n",
       "    </tr>\n",
       "    <tr>\n",
       "      <td>500</td>\n",
       "      <td>4.141900</td>\n",
       "      <td>3.381670</td>\n",
       "      <td>0.001700</td>\n",
       "      <td>0.320085</td>\n",
       "    </tr>\n",
       "    <tr>\n",
       "      <td>1000</td>\n",
       "      <td>3.247800</td>\n",
       "      <td>2.708128</td>\n",
       "      <td>0.001700</td>\n",
       "      <td>0.494677</td>\n",
       "    </tr>\n",
       "    <tr>\n",
       "      <td>1500</td>\n",
       "      <td>2.831000</td>\n",
       "      <td>2.370874</td>\n",
       "      <td>0.001700</td>\n",
       "      <td>0.674947</td>\n",
       "    </tr>\n",
       "    <tr>\n",
       "      <td>2000</td>\n",
       "      <td>2.611100</td>\n",
       "      <td>2.212404</td>\n",
       "      <td>0.001700</td>\n",
       "      <td>0.657204</td>\n",
       "    </tr>\n",
       "    <tr>\n",
       "      <td>2500</td>\n",
       "      <td>2.472600</td>\n",
       "      <td>2.129985</td>\n",
       "      <td>0.001700</td>\n",
       "      <td>0.678495</td>\n",
       "    </tr>\n",
       "    <tr>\n",
       "      <td>3000</td>\n",
       "      <td>2.357800</td>\n",
       "      <td>2.110312</td>\n",
       "      <td>0.001700</td>\n",
       "      <td>0.703336</td>\n",
       "    </tr>\n",
       "    <tr>\n",
       "      <td>3500</td>\n",
       "      <td>2.332400</td>\n",
       "      <td>2.059547</td>\n",
       "      <td>0.001700</td>\n",
       "      <td>0.721079</td>\n",
       "    </tr>\n",
       "    <tr>\n",
       "      <td>4000</td>\n",
       "      <td>2.267500</td>\n",
       "      <td>2.066001</td>\n",
       "      <td>0.001700</td>\n",
       "      <td>0.723918</td>\n",
       "    </tr>\n",
       "    <tr>\n",
       "      <td>4500</td>\n",
       "      <td>2.223800</td>\n",
       "      <td>2.034957</td>\n",
       "      <td>0.001700</td>\n",
       "      <td>0.724627</td>\n",
       "    </tr>\n",
       "  </tbody>\n",
       "</table><p>"
      ],
      "text/plain": [
       "<IPython.core.display.HTML object>"
      ]
     },
     "metadata": {},
     "output_type": "display_data"
    },
    {
     "data": {
      "text/html": [
       "\n",
       "    <div>\n",
       "      \n",
       "      <progress value='89' max='89' style='width:300px; height:20px; vertical-align: middle;'></progress>\n",
       "      [89/89 00:06]\n",
       "    </div>\n",
       "    "
      ],
      "text/plain": [
       "<IPython.core.display.HTML object>"
      ]
     },
     "metadata": {},
     "output_type": "display_data"
    },
    {
     "data": {
      "text/plain": [
       "{'_loss': 2.034956932067871,\n",
       " '_model_preparation_time': 0.0017,\n",
       " '_accuracy': 0.7246273953158269,\n",
       " '_runtime': 6.7874,\n",
       " '_samples_per_second': 207.589,\n",
       " '_steps_per_second': 13.112,\n",
       " 'epoch': 15.0}"
      ]
     },
     "execution_count": 14,
     "metadata": {},
     "output_type": "execute_result"
    }
   ],
   "source": [
    "trainer.train()\n",
    "\n",
    "post_training_eval = trainer.evaluate(metric_key_prefix='')\n",
    "post_training_eval"
   ]
  },
  {
   "cell_type": "markdown",
   "id": "edbccc5b-558c-4b72-991e-9eebc878a9d3",
   "metadata": {},
   "source": [
    "# EVALUATE PEFT MODEL"
   ]
  },
  {
   "cell_type": "code",
   "execution_count": 15,
   "id": "84625cf9-863e-472c-89a9-8eade75f7a36",
   "metadata": {},
   "outputs": [
    {
     "name": "stdout",
     "output_type": "stream",
     "text": [
      "Gastroenteritis\n"
     ]
    }
   ],
   "source": [
    "# Description of my symptoms from the perspective of my significant other, with an accuracy of 0.99\n",
    "print(diagnose(lora_model, tokenizer, \"Headache, flatulence, easily irritated, emotionally unstable\")) "
   ]
  },
  {
   "cell_type": "markdown",
   "id": "6cf93878-19f2-4316-ac1b-70dd8223586e",
   "metadata": {},
   "source": [
    "# SAVE TRAINED MODEL"
   ]
  },
  {
   "cell_type": "code",
   "execution_count": 16,
   "id": "45b2fa5d-d7fc-444c-815a-e35388811d35",
   "metadata": {},
   "outputs": [
    {
     "data": {
      "text/plain": [
       "{'default': LoraConfig(task_type='SEQ_CLS', peft_type=<PeftType.LORA: 'LORA'>, auto_mapping=None, base_model_name_or_path='distilbert/distilbert-base-uncased', revision=None, inference_mode=True, r=16, target_modules={'k_lin', 'q_lin', 'out_lin', 'v_lin'}, exclude_modules=None, lora_alpha=32, lora_dropout=0.05, fan_in_fan_out=False, bias='none', use_rslora=False, modules_to_save=['pre_classifier', 'classifier', 'classifier', 'score'], init_lora_weights=True, layers_to_transform=None, layers_pattern=None, rank_pattern={}, alpha_pattern={}, megatron_config=None, megatron_core='megatron.core', loftq_config={}, eva_config=None, use_dora=False, layer_replication=None, runtime_config=LoraRuntimeConfig(ephemeral_gpu_offload=False), lora_bias=False)}"
      ]
     },
     "execution_count": 16,
     "metadata": {},
     "output_type": "execute_result"
    }
   ],
   "source": [
    "lora_model.peft_config"
   ]
  },
  {
   "cell_type": "markdown",
   "id": "86ca8b20-8363-4dd4-9a32-6900e3eeb88e",
   "metadata": {},
   "source": [
    "# LOAD AND USE TRAINED MODEL"
   ]
  },
  {
   "cell_type": "code",
   "execution_count": 19,
   "id": "b8748333-e09b-4d9e-ae2f-455d1798c51e",
   "metadata": {},
   "outputs": [],
   "source": [
    "# THIS WORKS BUT IS NOT CONSIDERED CORRECT.\n",
    "# Loading an AutoModel with the merged base+LoRA weights.\n",
    "\n",
    "# merged_model = lora_model.merge_and_unload()\n",
    "# merged_model.save_pretrained(\"dr-bert-merged\")\n",
    "\n",
    "# peft_model = AutoModelForSequenceClassification.from_pretrained(\"dr-bert-merged\")\n",
    "# peft_model.to(device)"
   ]
  },
  {
   "cell_type": "code",
   "execution_count": 24,
   "id": "2f1284eb-30d8-423b-a0df-825f65b20c09",
   "metadata": {},
   "outputs": [],
   "source": [
    "# I CAN'T GET THIS TO WORK. THROWS ERROR THAT classifier, pre_classifier bias and weights mismatch.\n",
    "## Loading an AutoPeftModel.\n",
    "\n",
    "# lora_model.save_pretrained(\"dr-bert\")\n",
    "\n",
    "# from peft import AutoPeftModelForSequenceClassification\n",
    "\n",
    "# peft_model = AutoPeftModelForSequenceClassification.from_pretrained(\"dr-bert\")"
   ]
  },
  {
   "cell_type": "code",
   "execution_count": 18,
   "id": "bca8a509-657c-437f-9e16-774c15248c67",
   "metadata": {},
   "outputs": [
    {
     "data": {
      "text/plain": [
       "PeftModelForSequenceClassification(\n",
       "  (base_model): LoraModel(\n",
       "    (model): DistilBertForSequenceClassification(\n",
       "      (distilbert): DistilBertModel(\n",
       "        (embeddings): Embeddings(\n",
       "          (word_embeddings): Embedding(30522, 768, padding_idx=0)\n",
       "          (position_embeddings): Embedding(512, 768)\n",
       "          (LayerNorm): LayerNorm((768,), eps=1e-12, elementwise_affine=True)\n",
       "          (dropout): Dropout(p=0.1, inplace=False)\n",
       "        )\n",
       "        (transformer): Transformer(\n",
       "          (layer): ModuleList(\n",
       "            (0-5): 6 x TransformerBlock(\n",
       "              (attention): DistilBertSdpaAttention(\n",
       "                (dropout): Dropout(p=0.1, inplace=False)\n",
       "                (q_lin): lora.Linear(\n",
       "                  (base_layer): Linear(in_features=768, out_features=768, bias=True)\n",
       "                  (lora_dropout): ModuleDict(\n",
       "                    (default): Dropout(p=0.05, inplace=False)\n",
       "                  )\n",
       "                  (lora_A): ModuleDict(\n",
       "                    (default): Linear(in_features=768, out_features=16, bias=False)\n",
       "                  )\n",
       "                  (lora_B): ModuleDict(\n",
       "                    (default): Linear(in_features=16, out_features=768, bias=False)\n",
       "                  )\n",
       "                  (lora_embedding_A): ParameterDict()\n",
       "                  (lora_embedding_B): ParameterDict()\n",
       "                  (lora_magnitude_vector): ModuleDict()\n",
       "                )\n",
       "                (k_lin): lora.Linear(\n",
       "                  (base_layer): Linear(in_features=768, out_features=768, bias=True)\n",
       "                  (lora_dropout): ModuleDict(\n",
       "                    (default): Dropout(p=0.05, inplace=False)\n",
       "                  )\n",
       "                  (lora_A): ModuleDict(\n",
       "                    (default): Linear(in_features=768, out_features=16, bias=False)\n",
       "                  )\n",
       "                  (lora_B): ModuleDict(\n",
       "                    (default): Linear(in_features=16, out_features=768, bias=False)\n",
       "                  )\n",
       "                  (lora_embedding_A): ParameterDict()\n",
       "                  (lora_embedding_B): ParameterDict()\n",
       "                  (lora_magnitude_vector): ModuleDict()\n",
       "                )\n",
       "                (v_lin): lora.Linear(\n",
       "                  (base_layer): Linear(in_features=768, out_features=768, bias=True)\n",
       "                  (lora_dropout): ModuleDict(\n",
       "                    (default): Dropout(p=0.05, inplace=False)\n",
       "                  )\n",
       "                  (lora_A): ModuleDict(\n",
       "                    (default): Linear(in_features=768, out_features=16, bias=False)\n",
       "                  )\n",
       "                  (lora_B): ModuleDict(\n",
       "                    (default): Linear(in_features=16, out_features=768, bias=False)\n",
       "                  )\n",
       "                  (lora_embedding_A): ParameterDict()\n",
       "                  (lora_embedding_B): ParameterDict()\n",
       "                  (lora_magnitude_vector): ModuleDict()\n",
       "                )\n",
       "                (out_lin): lora.Linear(\n",
       "                  (base_layer): Linear(in_features=768, out_features=768, bias=True)\n",
       "                  (lora_dropout): ModuleDict(\n",
       "                    (default): Dropout(p=0.05, inplace=False)\n",
       "                  )\n",
       "                  (lora_A): ModuleDict(\n",
       "                    (default): Linear(in_features=768, out_features=16, bias=False)\n",
       "                  )\n",
       "                  (lora_B): ModuleDict(\n",
       "                    (default): Linear(in_features=16, out_features=768, bias=False)\n",
       "                  )\n",
       "                  (lora_embedding_A): ParameterDict()\n",
       "                  (lora_embedding_B): ParameterDict()\n",
       "                  (lora_magnitude_vector): ModuleDict()\n",
       "                )\n",
       "              )\n",
       "              (sa_layer_norm): LayerNorm((768,), eps=1e-12, elementwise_affine=True)\n",
       "              (ffn): FFN(\n",
       "                (dropout): Dropout(p=0.1, inplace=False)\n",
       "                (lin1): Linear(in_features=768, out_features=3072, bias=True)\n",
       "                (lin2): Linear(in_features=3072, out_features=768, bias=True)\n",
       "                (activation): GELUActivation()\n",
       "              )\n",
       "              (output_layer_norm): LayerNorm((768,), eps=1e-12, elementwise_affine=True)\n",
       "            )\n",
       "          )\n",
       "        )\n",
       "      )\n",
       "      (pre_classifier): ModulesToSaveWrapper(\n",
       "        (original_module): Linear(in_features=768, out_features=768, bias=True)\n",
       "        (modules_to_save): ModuleDict(\n",
       "          (default): Linear(in_features=768, out_features=768, bias=True)\n",
       "        )\n",
       "      )\n",
       "      (classifier): ModulesToSaveWrapper(\n",
       "        (original_module): Linear(in_features=768, out_features=1082, bias=True)\n",
       "        (modules_to_save): ModuleDict(\n",
       "          (default): Linear(in_features=768, out_features=1082, bias=True)\n",
       "        )\n",
       "      )\n",
       "      (dropout): Dropout(p=0.2, inplace=False)\n",
       "    )\n",
       "  )\n",
       ")"
      ]
     },
     "execution_count": 18,
     "metadata": {},
     "output_type": "execute_result"
    }
   ],
   "source": [
    "## Loading a checkpoint\n",
    "lora_model.save_pretrained(\"dr-bert\")\n",
    "\n",
    "from peft import PeftModel\n",
    "\n",
    "base_config = AutoConfig.from_pretrained(model_name,\n",
    "                                   num_labels=len(labels),\n",
    "                                   label2id=label2id,\n",
    "                                   id2label=id2label)\n",
    "base_model = AutoModelForSequenceClassification.from_config(base_config)\n",
    "peft_model = PeftModel.from_pretrained(base_model, \"dr-bert\")\n",
    "\n",
    "peft_model.to(device)"
   ]
  },
  {
   "cell_type": "code",
   "execution_count": 20,
   "id": "37421b92-4a17-41dd-a208-1e09f8dd031b",
   "metadata": {},
   "outputs": [
    {
     "data": {
      "text/plain": [
       "{'accuracy': 0.6879432624113475}"
      ]
     },
     "execution_count": 20,
     "metadata": {},
     "output_type": "execute_result"
    }
   ],
   "source": [
    "current_accuracy = validate_model(lora_model)\n",
    "current_accuracy"
   ]
  },
  {
   "cell_type": "code",
   "execution_count": 21,
   "id": "00eea219-8ab8-4427-aa31-5021228b9a72",
   "metadata": {},
   "outputs": [
    {
     "data": {
      "text/plain": [
       "{'accuracy': 0.6879432624113475}"
      ]
     },
     "execution_count": 21,
     "metadata": {},
     "output_type": "execute_result"
    }
   ],
   "source": [
    "trained_accuracy = validate_model(peft_model)\n",
    "trained_accuracy"
   ]
  },
  {
   "cell_type": "code",
   "execution_count": 22,
   "id": "479df7a3-2e19-4c75-8466-b222b575a6c2",
   "metadata": {},
   "outputs": [
    {
     "name": "stdout",
     "output_type": "stream",
     "text": [
      "Patient: 1, has: Malaria, for: headache,flatulence,fatique\n",
      "Patient: 2, has: Gerd, for: stomach_pain,acidity,ulcers_on_tongue,vomiting\n",
      "Patient: 3, has: Paralysis (Brain Hemorrhage), for: vomiting,headache,weakness_of_one_body_side\n",
      "Patient: 4, has: Paralysis (Brain Hemorrhage), for: this is a random string\n",
      "\n",
      "Patient: 1, has: Malaria, for: headache,flatulence,fatique\n",
      "Patient: 2, has: Gerd, for: stomach_pain,acidity,ulcers_on_tongue,vomiting\n",
      "Patient: 3, has: Paralysis (Brain Hemorrhage), for: vomiting,headache,weakness_of_one_body_side\n",
      "Patient: 4, has: Paralysis (Brain Hemorrhage), for: this is a random string\n"
     ]
    }
   ],
   "source": [
    "def diagnose_patients(model, patients):\n",
    "    for (name, symptoms) in patients:\n",
    "        inputs = tokenizer(symptoms, return_tensors=\"pt\").to(device)\n",
    "        outputs = model(**inputs)\n",
    "        \n",
    "        diagnosis = outputs.logits.argmax().item()\n",
    "        \n",
    "        print(f'Patient: {name}, has: {model.config.id2label[diagnosis]}, for: {symptoms}')\n",
    "\n",
    "patients = [\n",
    "    (\"1\", \"headache,flatulence,fatique\"),\n",
    "    (\"2\", \"stomach_pain,acidity,ulcers_on_tongue,vomiting\"),\n",
    "    (\"3\", \"vomiting,headache,weakness_of_one_body_side\"),\n",
    "    (\"4\", \"this is a random string\")    \n",
    "]\n",
    "\n",
    "diagnose_patients(lora_model, patients)\n",
    "print('\\r')\n",
    "diagnose_patients(peft_model, patients)"
   ]
  },
  {
   "cell_type": "code",
   "execution_count": 23,
   "id": "e83cd6c0-4064-4243-b645-63171872f14a",
   "metadata": {},
   "outputs": [
    {
     "name": "stdout",
     "output_type": "stream",
     "text": [
      "Before:  0.0 \n",
      "Current:  0.6879432624113475 \n",
      "After:  0.6879432624113475\n"
     ]
    }
   ],
   "source": [
    "print('Before: ', pretrained_accuracy['accuracy'],'\\nCurrent: ', current_accuracy['accuracy'], '\\nAfter: ', trained_accuracy['accuracy'])"
   ]
  },
  {
   "cell_type": "code",
   "execution_count": null,
   "id": "fceab33d-7dd1-43df-8ba9-0d8752e851bf",
   "metadata": {},
   "outputs": [],
   "source": []
  }
 ],
 "metadata": {
  "kernelspec": {
   "display_name": "Python 3 (ipykernel)",
   "language": "python",
   "name": "python3"
  },
  "language_info": {
   "codemirror_mode": {
    "name": "ipython",
    "version": 3
   },
   "file_extension": ".py",
   "mimetype": "text/x-python",
   "name": "python",
   "nbconvert_exporter": "python",
   "pygments_lexer": "ipython3",
   "version": "3.11.8"
  }
 },
 "nbformat": 4,
 "nbformat_minor": 5
}
